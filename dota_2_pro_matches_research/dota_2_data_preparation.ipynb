{
  "cells": [
    {
      "cell_type": "markdown",
      "metadata": {
        "id": "view-in-github",
        "colab_type": "text"
      },
      "source": [
        "<a href=\"https://colab.research.google.com/github/barudenko/projects/blob/main/dota_2_pro_matches_research/dota_2_data_preparation.ipynb\" target=\"_parent\"><img src=\"https://colab.research.google.com/assets/colab-badge.svg\" alt=\"Open In Colab\"/></a>"
      ]
    },
    {
      "cell_type": "markdown",
      "metadata": {
        "id": "UV9rLZtN1_XL"
      },
      "source": [
        "# Анализ профессиональных матчей Dota 2"
      ]
    },
    {
      "cell_type": "markdown",
      "metadata": {
        "id": "Sfs0NXOUfnk9"
      },
      "source": [
        "**Данные**\n",
        "\n",
        "[Источник данных](https://www.kaggle.com/datasets/bwandowando/dota-2-pro-league-matches-2023/data)\n",
        "\n",
        "Данные актуальные, выкачиваются с kaggle, разархивируются и объединяются в целые таблицы. Далее оставляются только потенциально интересные для исследования признаки, из них формируется локальная база данных SQLite. Дальнейшая работа производится с ней.\n",
        "\n",
        "Итоговые данные состоят из 9 таблиц  \n",
        "\n",
        "Основные:\n",
        "- `matches` - информация о матчах\n",
        "- `players` - информация об игроках и их активностях\n",
        "- `teams` - информация о командах\n",
        "- `picks_bans` - информация о стадии пиков/банов героев в каждом матче\n",
        "\n",
        "Вспомогательные:\n",
        "- `heroes` - инфо о героях\n",
        "- `items` - инфо о предметах\n",
        "- `leagues` - инфо о профессиональных лигах\n",
        "- `patch` - инфо о патчах (версиях) игры\n",
        "- `regions` - инфо о регионе сервера матча"
      ]
    },
    {
      "cell_type": "markdown",
      "metadata": {
        "id": "fp0l5-dghHiS"
      },
      "source": [
        "**Цель исследования**\n",
        "\n",
        "Посмотреть, что происходит на профессиональной сцене Dota 2 в последнем патче: посмотреть на героев, предметы, их винрейт, на длительность матча и время первого фб. И посмотреть на некоторые командные показатели, и определить, влияют ли они на победу в матче, или нет."
      ]
    },
    {
      "cell_type": "code",
      "execution_count": 1,
      "metadata": {
        "collapsed": true,
        "id": "1CNEVrMHYwKc"
      },
      "outputs": [],
      "source": [
        "%%capture\n",
        "!pip install kaggle"
      ]
    },
    {
      "cell_type": "code",
      "execution_count": 2,
      "metadata": {
        "id": "mHm6nf6I8JhN"
      },
      "outputs": [],
      "source": [
        "import os\n",
        "import shutil\n",
        "import warnings\n",
        "import pandas as pd\n",
        "import numpy as np\n",
        "\n",
        "import sqlite3\n",
        "\n",
        "from scipy.stats import chi2_contingency\n",
        "from scipy.stats import ttest_ind\n",
        "\n",
        "import plotly.express as px\n",
        "import plotly.graph_objects as go\n",
        "from plotly.subplots import make_subplots\n",
        "import plotly.io as pio\n",
        "\n",
        "from google.colab import userdata\n",
        "import gdown"
      ]
    },
    {
      "cell_type": "code",
      "execution_count": 3,
      "metadata": {
        "id": "LTxQQYLxb6bo"
      },
      "outputs": [],
      "source": [
        "#отображение больших чисел полностью\n",
        "pd.set_option('display.float_format', '{:.2f}'.format)\n",
        "\n",
        "#отключение текста предупреждений pandas\n",
        "pd.options.mode.chained_assignment = None\n",
        "\n",
        "#отключение текста предупреждений DtypeWarning\n",
        "warnings.filterwarnings(\"ignore\", category=pd.errors.DtypeWarning)\n",
        "\n",
        "#параметры отображения графиков\n",
        "# pio.renderers.default='notebook'\n",
        "# pio.renderers.default='colab'"
      ]
    },
    {
      "cell_type": "markdown",
      "source": [
        "# Подготовка данных и создание базы"
      ],
      "metadata": {
        "id": "Sd2-o1PdTD3f"
      }
    },
    {
      "cell_type": "markdown",
      "source": [
        "## Скачивание и объединение"
      ],
      "metadata": {
        "id": "hOPYaaw8TI4m"
      }
    },
    {
      "cell_type": "code",
      "source": [
        "kaggle_gdrive_id = userdata.get('kaggle_gdrive_id')"
      ],
      "metadata": {
        "id": "OsFRzenh1B_w"
      },
      "execution_count": 5,
      "outputs": []
    },
    {
      "cell_type": "code",
      "source": [
        "%%capture\n",
        "gdown.download(id=kaggle_gdrive_id) # kaggle.json"
      ],
      "metadata": {
        "id": "aKNjra813ACb"
      },
      "execution_count": 6,
      "outputs": []
    },
    {
      "cell_type": "code",
      "source": [
        "!mkdir -p ~/.kaggle\n",
        "!mv kaggle.json ~/.kaggle/\n",
        "!chmod 600 ~/.kaggle/kaggle.json"
      ],
      "metadata": {
        "id": "CrH4Vs2oZdAj"
      },
      "execution_count": 7,
      "outputs": []
    },
    {
      "cell_type": "code",
      "source": [
        "!kaggle datasets download -d bwandowando/dota-2-pro-league-matches-2023"
      ],
      "metadata": {
        "colab": {
          "base_uri": "https://localhost:8080/"
        },
        "id": "Xr7e0C7EZnjm",
        "outputId": "eecb2775-7aab-4840-a01e-f5f879bfb0f5"
      },
      "execution_count": 8,
      "outputs": [
        {
          "output_type": "stream",
          "name": "stdout",
          "text": [
            "Dataset URL: https://www.kaggle.com/datasets/bwandowando/dota-2-pro-league-matches-2023\n",
            "License(s): CC0-1.0\n",
            "Downloading dota-2-pro-league-matches-2023.zip to /content\n",
            "100% 6.17G/6.18G [00:54<00:00, 139MB/s]\n",
            "100% 6.18G/6.18G [00:54<00:00, 122MB/s]\n"
          ]
        }
      ]
    },
    {
      "cell_type": "code",
      "source": [
        "%%capture\n",
        "!unzip dota-2-pro-league-matches-2023"
      ],
      "metadata": {
        "collapsed": true,
        "id": "0cn7Fif0aGFn"
      },
      "execution_count": 9,
      "outputs": []
    },
    {
      "cell_type": "code",
      "source": [
        "!rm dota-2-pro-league-matches-2023.zip"
      ],
      "metadata": {
        "id": "88oFwHkfzk94"
      },
      "execution_count": 10,
      "outputs": []
    },
    {
      "cell_type": "code",
      "source": [
        "os.getcwd()"
      ],
      "metadata": {
        "colab": {
          "base_uri": "https://localhost:8080/",
          "height": 35
        },
        "id": "QrUQRcss1N6B",
        "outputId": "dfed685d-ca8c-42f1-e4d9-cbe5c9e5047d"
      },
      "execution_count": 11,
      "outputs": [
        {
          "output_type": "execute_result",
          "data": {
            "text/plain": [
              "'/content'"
            ],
            "application/vnd.google.colaboratory.intrinsic+json": {
              "type": "string"
            }
          },
          "metadata": {},
          "execution_count": 11
        }
      ]
    },
    {
      "cell_type": "code",
      "source": [
        "os.listdir()"
      ],
      "metadata": {
        "colab": {
          "base_uri": "https://localhost:8080/"
        },
        "id": "xmWMWgHR1Pdc",
        "outputId": "cd9f6674-fbeb-47a5-d2c6-0a18c84c208a"
      },
      "execution_count": 12,
      "outputs": [
        {
          "output_type": "execute_result",
          "data": {
            "text/plain": [
              "['.config',\n",
              " '2023',\n",
              " '2019',\n",
              " '202403',\n",
              " '202407',\n",
              " '202406',\n",
              " '2020',\n",
              " '202409',\n",
              " '202402',\n",
              " '202405',\n",
              " '202408',\n",
              " '202401',\n",
              " '202404',\n",
              " '2016',\n",
              " 'Images',\n",
              " '2022',\n",
              " '2018',\n",
              " 'Constants',\n",
              " '2017',\n",
              " '2021',\n",
              " 'sample_data']"
            ]
          },
          "metadata": {},
          "execution_count": 12
        }
      ]
    },
    {
      "cell_type": "code",
      "source": [
        "# Указываем путь к рабочей директории\n",
        "base_dir = '/content'\n",
        "\n",
        "# Список папок, которые не нужно обрабатывать\n",
        "ignore_folders = ['Images', 'Constants', 'sample_data', '.config']\n",
        "\n",
        "# Получаем список папок годов, отсортированных в порядке возрастания\n",
        "year_folders = sorted([folder for folder in os.listdir(base_dir) if folder not in ignore_folders])\n",
        "\n",
        "# Директория для сохранения объединенных файлов\n",
        "output_dir = os.path.join(base_dir, 'merged_data')\n",
        "os.makedirs(output_dir, exist_ok=True)\n",
        "\n",
        "# Словарь для хранения эталонных заголовков для каждого типа файла\n",
        "reference_columns = {}\n",
        "\n",
        "# Функция для поэтапного сохранения данных\n",
        "def append_to_csv(dataframe, file_path):\n",
        "    \"\"\"Добавляет DataFrame в CSV файл. Если файл не существует, создает новый.\"\"\"\n",
        "    if not os.path.exists(file_path):\n",
        "        dataframe.to_csv(file_path, index=False)\n",
        "    else:\n",
        "        dataframe.to_csv(file_path, mode='a', header=False, index=False)\n",
        "\n",
        "# Функция для приведения колонок в чанке к эталонным\n",
        "def align_columns(base_columns, chunk):\n",
        "    \"\"\"\n",
        "    Приводим колонки в чанке к базовым колонкам: добавляем отсутствующие и удаляем лишние.\n",
        "    \"\"\"\n",
        "    # Добавляем отсутствующие столбцы и заполняем их значением NaN\n",
        "    for col in base_columns:\n",
        "        if col not in chunk.columns:\n",
        "            chunk[col] = pd.NA\n",
        "    # Удаляем лишние столбцы\n",
        "    chunk = chunk[base_columns]\n",
        "    return chunk\n",
        "\n",
        "# 1. Определяем эталонные заголовки и сортируем файлы по размеру на основе файлов из 2016 года\n",
        "reference_folder = os.path.join(base_dir, '2016')\n",
        "sorted_files = []\n",
        "\n",
        "if os.path.exists(reference_folder):\n",
        "    # Проверяем и сортируем файлы по размеру\n",
        "    for csv_file in os.listdir(reference_folder):\n",
        "        file_path = os.path.join(reference_folder, csv_file)\n",
        "        if os.path.isfile(file_path) and csv_file.endswith('.csv'):\n",
        "            # Добавляем файл и его размер в список\n",
        "            sorted_files.append((csv_file, os.path.getsize(file_path)))\n",
        "\n",
        "    # Сортируем список файлов по размеру\n",
        "    sorted_files = sorted(sorted_files, key=lambda x: x[1])\n",
        "\n",
        "    # Считываем эталонные заголовки для каждого CSV файла\n",
        "    for csv_file, _ in sorted_files:\n",
        "        reference_file_path = os.path.join(reference_folder, csv_file)\n",
        "\n",
        "        # Если файл существует, читаем только заголовки\n",
        "        if os.path.exists(reference_file_path):\n",
        "            reference_df = pd.read_csv(reference_file_path, nrows=1)\n",
        "            reference_columns[csv_file] = reference_df.columns  # Сохраняем заголовки\n",
        "\n",
        "# 2. Этап объединения данных\n",
        "# Проходим по каждому отсортированному файлу (начиная с самого легкого)\n",
        "for csv_file, _ in sorted_files:\n",
        "    print(f\"Объединение файла: {csv_file}\")\n",
        "    output_path = os.path.join(output_dir, f'merged_{csv_file}')\n",
        "\n",
        "    # Проходим по каждой папке года\n",
        "    for year_folder in year_folders:\n",
        "        year_folder_path = os.path.join(base_dir, year_folder)\n",
        "        csv_file_path = os.path.join(year_folder_path, csv_file)\n",
        "\n",
        "        # Если файл существует в данной папке года\n",
        "        if os.path.exists(csv_file_path):\n",
        "            chunk_size = 100000  # Размер чанка для чтения\n",
        "            for chunk in pd.read_csv(csv_file_path, chunksize=chunk_size):\n",
        "                # Получаем эталонные колонки для текущего типа файла\n",
        "                base_columns = reference_columns[csv_file]\n",
        "\n",
        "                # Приводим колонки в текущем чанке к базовым колонкам\n",
        "                chunk = align_columns(base_columns, chunk)\n",
        "\n",
        "                # Добавляем чанк в итоговый CSV файл\n",
        "                append_to_csv(chunk, output_path)\n",
        "\n",
        "            # Удаляем исходный CSV файл после обработки\n",
        "            os.remove(csv_file_path)\n",
        "            print(f\"Удален файл: {csv_file_path}\")\n",
        "\n",
        "# 3. Этап удаления пустых папок после обработки всех файлов\n",
        "for year_folder in year_folders:\n",
        "    year_folder_path = os.path.join(base_dir, year_folder)\n",
        "\n",
        "    # Проверяем, пуста ли папка, и удаляем её, если пуста\n",
        "    if os.path.isdir(year_folder_path) and not os.listdir(year_folder_path):\n",
        "        os.rmdir(year_folder_path)\n",
        "        print(f\"Удалена пустая папка: {year_folder_path}\")\n",
        "\n",
        "print(\"----------\\nОбъединение завершено.\\nИсходные файлы и пустые папки удалены.\\nИтоговые датасеты сохранены в директорию 'merged_data'.\")"
      ],
      "metadata": {
        "colab": {
          "base_uri": "https://localhost:8080/"
        },
        "id": "2VBov2iaQLeo",
        "outputId": "a1608ac4-098f-4d28-e8a4-2fbc1e4dd72c"
      },
      "execution_count": 13,
      "outputs": [
        {
          "output_type": "stream",
          "name": "stdout",
          "text": [
            "Объединение файла: teams.csv\n",
            "Удален файл: /content/2016/teams.csv\n",
            "Удален файл: /content/2017/teams.csv\n",
            "Удален файл: /content/2018/teams.csv\n",
            "Удален файл: /content/2019/teams.csv\n",
            "Удален файл: /content/2020/teams.csv\n",
            "Удален файл: /content/2021/teams.csv\n",
            "Удален файл: /content/2022/teams.csv\n",
            "Удален файл: /content/2023/teams.csv\n",
            "Удален файл: /content/202401/teams.csv\n",
            "Удален файл: /content/202402/teams.csv\n",
            "Удален файл: /content/202403/teams.csv\n",
            "Удален файл: /content/202404/teams.csv\n",
            "Удален файл: /content/202405/teams.csv\n",
            "Удален файл: /content/202406/teams.csv\n",
            "Удален файл: /content/202407/teams.csv\n",
            "Удален файл: /content/202408/teams.csv\n",
            "Удален файл: /content/202409/teams.csv\n",
            "Объединение файла: main_metadata.csv\n",
            "Удален файл: /content/2016/main_metadata.csv\n",
            "Удален файл: /content/2017/main_metadata.csv\n",
            "Удален файл: /content/2018/main_metadata.csv\n",
            "Удален файл: /content/2019/main_metadata.csv\n",
            "Удален файл: /content/2020/main_metadata.csv\n",
            "Удален файл: /content/2021/main_metadata.csv\n",
            "Удален файл: /content/2022/main_metadata.csv\n",
            "Удален файл: /content/2023/main_metadata.csv\n",
            "Удален файл: /content/202401/main_metadata.csv\n",
            "Удален файл: /content/202402/main_metadata.csv\n",
            "Удален файл: /content/202403/main_metadata.csv\n",
            "Удален файл: /content/202404/main_metadata.csv\n",
            "Удален файл: /content/202405/main_metadata.csv\n",
            "Удален файл: /content/202406/main_metadata.csv\n",
            "Удален файл: /content/202407/main_metadata.csv\n",
            "Удален файл: /content/202408/main_metadata.csv\n",
            "Удален файл: /content/202409/main_metadata.csv\n",
            "Объединение файла: all_word_counts.csv\n",
            "Удален файл: /content/2016/all_word_counts.csv\n",
            "Удален файл: /content/2017/all_word_counts.csv\n",
            "Удален файл: /content/2018/all_word_counts.csv\n",
            "Удален файл: /content/2019/all_word_counts.csv\n",
            "Удален файл: /content/2020/all_word_counts.csv\n",
            "Удален файл: /content/2021/all_word_counts.csv\n",
            "Удален файл: /content/2022/all_word_counts.csv\n",
            "Удален файл: /content/2023/all_word_counts.csv\n",
            "Удален файл: /content/202401/all_word_counts.csv\n",
            "Удален файл: /content/202402/all_word_counts.csv\n",
            "Удален файл: /content/202403/all_word_counts.csv\n",
            "Удален файл: /content/202404/all_word_counts.csv\n",
            "Удален файл: /content/202405/all_word_counts.csv\n",
            "Удален файл: /content/202406/all_word_counts.csv\n",
            "Удален файл: /content/202407/all_word_counts.csv\n",
            "Удален файл: /content/202408/all_word_counts.csv\n",
            "Удален файл: /content/202409/all_word_counts.csv\n",
            "Объединение файла: picks_bans.csv\n",
            "Удален файл: /content/2016/picks_bans.csv\n",
            "Удален файл: /content/2017/picks_bans.csv\n",
            "Удален файл: /content/2018/picks_bans.csv\n",
            "Удален файл: /content/2019/picks_bans.csv\n",
            "Удален файл: /content/2020/picks_bans.csv\n",
            "Удален файл: /content/2021/picks_bans.csv\n",
            "Удален файл: /content/2022/picks_bans.csv\n",
            "Удален файл: /content/2023/picks_bans.csv\n",
            "Удален файл: /content/202401/picks_bans.csv\n",
            "Удален файл: /content/202402/picks_bans.csv\n",
            "Удален файл: /content/202403/picks_bans.csv\n",
            "Удален файл: /content/202404/picks_bans.csv\n",
            "Удален файл: /content/202405/picks_bans.csv\n",
            "Удален файл: /content/202406/picks_bans.csv\n",
            "Удален файл: /content/202407/picks_bans.csv\n",
            "Удален файл: /content/202408/picks_bans.csv\n",
            "Удален файл: /content/202409/picks_bans.csv\n",
            "Объединение файла: draft_timings.csv\n",
            "Удален файл: /content/2016/draft_timings.csv\n",
            "Удален файл: /content/2017/draft_timings.csv\n",
            "Удален файл: /content/2018/draft_timings.csv\n",
            "Удален файл: /content/2019/draft_timings.csv\n",
            "Удален файл: /content/2020/draft_timings.csv\n",
            "Удален файл: /content/2021/draft_timings.csv\n",
            "Удален файл: /content/2022/draft_timings.csv\n",
            "Удален файл: /content/2023/draft_timings.csv\n",
            "Удален файл: /content/202401/draft_timings.csv\n",
            "Удален файл: /content/202402/draft_timings.csv\n",
            "Удален файл: /content/202403/draft_timings.csv\n",
            "Удален файл: /content/202404/draft_timings.csv\n",
            "Удален файл: /content/202405/draft_timings.csv\n",
            "Удален файл: /content/202406/draft_timings.csv\n",
            "Удален файл: /content/202407/draft_timings.csv\n",
            "Удален файл: /content/202408/draft_timings.csv\n",
            "Удален файл: /content/202409/draft_timings.csv\n",
            "Объединение файла: radiant_gold_adv.csv\n",
            "Удален файл: /content/2016/radiant_gold_adv.csv\n",
            "Удален файл: /content/2017/radiant_gold_adv.csv\n",
            "Удален файл: /content/2018/radiant_gold_adv.csv\n",
            "Удален файл: /content/2019/radiant_gold_adv.csv\n",
            "Удален файл: /content/2020/radiant_gold_adv.csv\n",
            "Удален файл: /content/2021/radiant_gold_adv.csv\n",
            "Удален файл: /content/2022/radiant_gold_adv.csv\n",
            "Удален файл: /content/2023/radiant_gold_adv.csv\n",
            "Удален файл: /content/202401/radiant_gold_adv.csv\n",
            "Удален файл: /content/202402/radiant_gold_adv.csv\n",
            "Удален файл: /content/202403/radiant_gold_adv.csv\n",
            "Удален файл: /content/202404/radiant_gold_adv.csv\n",
            "Удален файл: /content/202405/radiant_gold_adv.csv\n",
            "Удален файл: /content/202406/radiant_gold_adv.csv\n",
            "Удален файл: /content/202407/radiant_gold_adv.csv\n",
            "Удален файл: /content/202408/radiant_gold_adv.csv\n",
            "Удален файл: /content/202409/radiant_gold_adv.csv\n",
            "Объединение файла: radiant_exp_adv.csv\n",
            "Удален файл: /content/2016/radiant_exp_adv.csv\n",
            "Удален файл: /content/2017/radiant_exp_adv.csv\n",
            "Удален файл: /content/2018/radiant_exp_adv.csv\n",
            "Удален файл: /content/2019/radiant_exp_adv.csv\n",
            "Удален файл: /content/2020/radiant_exp_adv.csv\n",
            "Удален файл: /content/2021/radiant_exp_adv.csv\n",
            "Удален файл: /content/2022/radiant_exp_adv.csv\n",
            "Удален файл: /content/2023/radiant_exp_adv.csv\n",
            "Удален файл: /content/202401/radiant_exp_adv.csv\n",
            "Удален файл: /content/202402/radiant_exp_adv.csv\n",
            "Удален файл: /content/202403/radiant_exp_adv.csv\n",
            "Удален файл: /content/202404/radiant_exp_adv.csv\n",
            "Удален файл: /content/202405/radiant_exp_adv.csv\n",
            "Удален файл: /content/202406/radiant_exp_adv.csv\n",
            "Удален файл: /content/202407/radiant_exp_adv.csv\n",
            "Удален файл: /content/202408/radiant_exp_adv.csv\n",
            "Удален файл: /content/202409/radiant_exp_adv.csv\n",
            "Объединение файла: cosmetics.csv\n",
            "Удален файл: /content/2016/cosmetics.csv\n",
            "Удален файл: /content/2017/cosmetics.csv\n",
            "Удален файл: /content/2018/cosmetics.csv\n",
            "Удален файл: /content/2019/cosmetics.csv\n",
            "Удален файл: /content/2020/cosmetics.csv\n",
            "Удален файл: /content/2021/cosmetics.csv\n",
            "Удален файл: /content/2022/cosmetics.csv\n",
            "Удален файл: /content/2023/cosmetics.csv\n",
            "Удален файл: /content/202401/cosmetics.csv\n",
            "Удален файл: /content/202402/cosmetics.csv\n",
            "Удален файл: /content/202403/cosmetics.csv\n",
            "Удален файл: /content/202404/cosmetics.csv\n",
            "Удален файл: /content/202405/cosmetics.csv\n",
            "Удален файл: /content/202406/cosmetics.csv\n",
            "Удален файл: /content/202407/cosmetics.csv\n",
            "Удален файл: /content/202408/cosmetics.csv\n",
            "Удален файл: /content/202409/cosmetics.csv\n",
            "Объединение файла: chat.csv\n",
            "Удален файл: /content/2016/chat.csv\n",
            "Удален файл: /content/2017/chat.csv\n",
            "Удален файл: /content/2018/chat.csv\n",
            "Удален файл: /content/2019/chat.csv\n",
            "Удален файл: /content/2020/chat.csv\n",
            "Удален файл: /content/2021/chat.csv\n",
            "Удален файл: /content/2022/chat.csv\n",
            "Удален файл: /content/2023/chat.csv\n",
            "Удален файл: /content/202401/chat.csv\n",
            "Удален файл: /content/202402/chat.csv\n",
            "Удален файл: /content/202403/chat.csv\n",
            "Удален файл: /content/202404/chat.csv\n",
            "Удален файл: /content/202405/chat.csv\n",
            "Удален файл: /content/202406/chat.csv\n",
            "Удален файл: /content/202407/chat.csv\n",
            "Удален файл: /content/202408/chat.csv\n",
            "Удален файл: /content/202409/chat.csv\n",
            "Объединение файла: objectives.csv\n",
            "Удален файл: /content/2016/objectives.csv\n",
            "Удален файл: /content/2017/objectives.csv\n",
            "Удален файл: /content/2018/objectives.csv\n",
            "Удален файл: /content/2019/objectives.csv\n",
            "Удален файл: /content/2020/objectives.csv\n",
            "Удален файл: /content/2021/objectives.csv\n",
            "Удален файл: /content/2022/objectives.csv\n",
            "Удален файл: /content/2023/objectives.csv\n",
            "Удален файл: /content/202401/objectives.csv\n",
            "Удален файл: /content/202402/objectives.csv\n",
            "Удален файл: /content/202403/objectives.csv\n",
            "Удален файл: /content/202404/objectives.csv\n",
            "Удален файл: /content/202405/objectives.csv\n",
            "Удален файл: /content/202406/objectives.csv\n",
            "Удален файл: /content/202407/objectives.csv\n",
            "Удален файл: /content/202408/objectives.csv\n",
            "Удален файл: /content/202409/objectives.csv\n",
            "Объединение файла: teamfights.csv\n",
            "Удален файл: /content/2016/teamfights.csv\n",
            "Удален файл: /content/2017/teamfights.csv\n",
            "Удален файл: /content/2018/teamfights.csv\n",
            "Удален файл: /content/2019/teamfights.csv\n",
            "Удален файл: /content/2020/teamfights.csv\n",
            "Удален файл: /content/2021/teamfights.csv\n",
            "Удален файл: /content/2022/teamfights.csv\n",
            "Удален файл: /content/2023/teamfights.csv\n",
            "Удален файл: /content/202401/teamfights.csv\n",
            "Удален файл: /content/202402/teamfights.csv\n",
            "Удален файл: /content/202403/teamfights.csv\n",
            "Удален файл: /content/202404/teamfights.csv\n",
            "Удален файл: /content/202405/teamfights.csv\n",
            "Удален файл: /content/202406/teamfights.csv\n",
            "Удален файл: /content/202407/teamfights.csv\n",
            "Удален файл: /content/202408/teamfights.csv\n",
            "Удален файл: /content/202409/teamfights.csv\n",
            "Объединение файла: players.csv\n",
            "Удален файл: /content/2016/players.csv\n",
            "Удален файл: /content/2017/players.csv\n",
            "Удален файл: /content/2018/players.csv\n",
            "Удален файл: /content/2019/players.csv\n",
            "Удален файл: /content/2020/players.csv\n",
            "Удален файл: /content/2021/players.csv\n",
            "Удален файл: /content/2022/players.csv\n",
            "Удален файл: /content/2023/players.csv\n",
            "Удален файл: /content/202401/players.csv\n",
            "Удален файл: /content/202402/players.csv\n",
            "Удален файл: /content/202403/players.csv\n",
            "Удален файл: /content/202404/players.csv\n",
            "Удален файл: /content/202405/players.csv\n",
            "Удален файл: /content/202406/players.csv\n",
            "Удален файл: /content/202407/players.csv\n",
            "Удален файл: /content/202408/players.csv\n",
            "Удален файл: /content/202409/players.csv\n",
            "Удалена пустая папка: /content/2016\n",
            "Удалена пустая папка: /content/2017\n",
            "Удалена пустая папка: /content/2018\n",
            "Удалена пустая папка: /content/2019\n",
            "Удалена пустая папка: /content/2020\n",
            "Удалена пустая папка: /content/2021\n",
            "Удалена пустая папка: /content/2022\n",
            "Удалена пустая папка: /content/2023\n",
            "Удалена пустая папка: /content/202401\n",
            "Удалена пустая папка: /content/202402\n",
            "Удалена пустая папка: /content/202403\n",
            "Удалена пустая папка: /content/202404\n",
            "Удалена пустая папка: /content/202405\n",
            "Удалена пустая папка: /content/202406\n",
            "Удалена пустая папка: /content/202407\n",
            "Удалена пустая папка: /content/202408\n",
            "Удалена пустая папка: /content/202409\n",
            "----------\n",
            "Объединение завершено.\n",
            "Исходные файлы и пустые папки удалены.\n",
            "Итоговые датасеты сохранены в директорию 'merged_data'.\n"
          ]
        }
      ]
    },
    {
      "cell_type": "code",
      "source": [
        "os.listdir()"
      ],
      "metadata": {
        "colab": {
          "base_uri": "https://localhost:8080/"
        },
        "id": "csfbXhri4O-J",
        "outputId": "3439a254-caef-4965-ba94-f9e78557dc9b"
      },
      "execution_count": 14,
      "outputs": [
        {
          "output_type": "execute_result",
          "data": {
            "text/plain": [
              "['.config', 'Images', 'merged_data', 'Constants', 'sample_data']"
            ]
          },
          "metadata": {},
          "execution_count": 14
        }
      ]
    },
    {
      "cell_type": "code",
      "source": [
        "os.chdir('/content/merged_data/')"
      ],
      "metadata": {
        "id": "lowsQQgas5qW"
      },
      "execution_count": 15,
      "outputs": []
    },
    {
      "cell_type": "code",
      "source": [
        "csv_names = [name.replace('merged_', '') for name in os.listdir()]\n",
        "for merged_name, new_name in zip(os.listdir(), csv_names):\n",
        "  os.rename(merged_name, new_name)"
      ],
      "metadata": {
        "id": "5cjMygXhs9CF"
      },
      "execution_count": 16,
      "outputs": []
    },
    {
      "cell_type": "code",
      "source": [
        "os.listdir()"
      ],
      "metadata": {
        "colab": {
          "base_uri": "https://localhost:8080/"
        },
        "id": "k8PoxZ3qxGrc",
        "outputId": "69771f0b-6fbb-46f1-8db4-94435d344ff2"
      },
      "execution_count": 17,
      "outputs": [
        {
          "output_type": "execute_result",
          "data": {
            "text/plain": [
              "['teamfights.csv',\n",
              " 'objectives.csv',\n",
              " 'cosmetics.csv',\n",
              " 'main_metadata.csv',\n",
              " 'chat.csv',\n",
              " 'all_word_counts.csv',\n",
              " 'radiant_exp_adv.csv',\n",
              " 'picks_bans.csv',\n",
              " 'draft_timings.csv',\n",
              " 'players.csv',\n",
              " 'teams.csv',\n",
              " 'radiant_gold_adv.csv']"
            ]
          },
          "metadata": {},
          "execution_count": 17
        }
      ]
    },
    {
      "cell_type": "code",
      "source": [
        "os.path.getsize(f\"/content/merged_data/{sorted_files[-1][0]}\")"
      ],
      "metadata": {
        "colab": {
          "base_uri": "https://localhost:8080/"
        },
        "id": "tgwPfFp6Q6Ry",
        "outputId": "7b63f29b-a687-4272-de10-b30bc00d1a95"
      },
      "execution_count": 18,
      "outputs": [
        {
          "output_type": "execute_result",
          "data": {
            "text/plain": [
              "29232920866"
            ]
          },
          "metadata": {},
          "execution_count": 18
        }
      ]
    },
    {
      "cell_type": "markdown",
      "source": [
        "Самая тяжелая таблица весит ~27 гб"
      ],
      "metadata": {
        "id": "2heaZJ9uVrco"
      }
    },
    {
      "cell_type": "markdown",
      "source": [
        "## Подготовка таблиц и создание БД"
      ],
      "metadata": {
        "id": "io9y846zTTe6"
      }
    },
    {
      "cell_type": "code",
      "source": [
        "os.chdir('/content/')"
      ],
      "metadata": {
        "id": "MTFXboEHg6jP"
      },
      "execution_count": 19,
      "outputs": []
    },
    {
      "cell_type": "code",
      "source": [
        "# Создаем подключение к базе данных (или создаем файл базы данных, если его нет)\n",
        "conn = sqlite3.connect('dota_pro_matches.db')\n",
        "c = conn.cursor()"
      ],
      "metadata": {
        "id": "JeD7AUoqga5t"
      },
      "execution_count": 20,
      "outputs": []
    },
    {
      "cell_type": "markdown",
      "source": [
        "### Основные таблицы"
      ],
      "metadata": {
        "id": "TA0qavnTqy7J"
      }
    },
    {
      "cell_type": "code",
      "source": [
        "t = pd.read_csv(\n",
        "    '/content/merged_data/players.csv',\n",
        "    usecols=[\n",
        "        'match_id',\n",
        "        'account_id',\n",
        "        'personaname',\n",
        "        'hero_id',\n",
        "        'isRadiant',\n",
        "        'win',\n",
        "        'radiant_win',\n",
        "        'kills',\n",
        "        'deaths',\n",
        "        'assists',\n",
        "        'last_hits',\n",
        "        'denies',\n",
        "        'neutral_kills',\n",
        "        'lane_kills',\n",
        "        'hero_damage',\n",
        "        'hero_healing',\n",
        "        'tower_damage',\n",
        "        'level',\n",
        "        'gold_per_min',\n",
        "        'xp_per_min',\n",
        "        'actions_per_min',\n",
        "        'item_0',\n",
        "        'item_1',\n",
        "        'item_2',\n",
        "        'item_3',\n",
        "        'item_4',\n",
        "        'item_5',\n",
        "        'item_neutral',\n",
        "        'backpack_0',\n",
        "        'backpack_1',\n",
        "        'backpack_2',\n",
        "        'observer_uses',\n",
        "        'sentry_uses',\n",
        "        'purchase_gem',\n",
        "        'purchase_rapier',\n",
        "        'firstblood_claimed',\n",
        "        'gold_spent',\n",
        "        'pings',\n",
        "        'roshan_kills',\n",
        "        'rune_pickups',\n",
        "        'towers_killed',\n",
        "        'observer_kills',\n",
        "        'sentry_kills',\n",
        "        'buyback_count',\n",
        "        'is_roaming'\n",
        "        ]\n",
        ")"
      ],
      "metadata": {
        "id": "yzRZ3Ib2fSgV"
      },
      "execution_count": 21,
      "outputs": []
    },
    {
      "cell_type": "code",
      "source": [
        "t.info()"
      ],
      "metadata": {
        "colab": {
          "base_uri": "https://localhost:8080/"
        },
        "id": "HUJSCQzagJmo",
        "outputId": "db4b8d22-4374-4128-abbd-1ca55a4fc6ae"
      },
      "execution_count": 22,
      "outputs": [
        {
          "output_type": "stream",
          "name": "stdout",
          "text": [
            "<class 'pandas.core.frame.DataFrame'>\n",
            "RangeIndex: 1545351 entries, 0 to 1545350\n",
            "Data columns (total 45 columns):\n",
            " #   Column              Non-Null Count    Dtype  \n",
            "---  ------              --------------    -----  \n",
            " 0   match_id            1545351 non-null  int64  \n",
            " 1   account_id          1545288 non-null  float64\n",
            " 2   assists             1545346 non-null  float64\n",
            " 3   backpack_0          1545346 non-null  float64\n",
            " 4   backpack_1          1545346 non-null  float64\n",
            " 5   backpack_2          1545346 non-null  float64\n",
            " 6   deaths              1545346 non-null  float64\n",
            " 7   denies              1545346 non-null  float64\n",
            " 8   firstblood_claimed  1469565 non-null  float64\n",
            " 9   gold_per_min        1545346 non-null  float64\n",
            " 10  gold_spent          1491078 non-null  float64\n",
            " 11  hero_damage         1491078 non-null  float64\n",
            " 12  hero_healing        1491078 non-null  float64\n",
            " 13  hero_id             1545346 non-null  float64\n",
            " 14  item_0              1545346 non-null  float64\n",
            " 15  item_1              1545346 non-null  float64\n",
            " 16  item_2              1545346 non-null  float64\n",
            " 17  item_3              1545346 non-null  float64\n",
            " 18  item_4              1545346 non-null  float64\n",
            " 19  item_5              1545346 non-null  float64\n",
            " 20  item_neutral        1523656 non-null  float64\n",
            " 21  kills               1545346 non-null  float64\n",
            " 22  last_hits           1545346 non-null  float64\n",
            " 23  level               1545346 non-null  float64\n",
            " 24  pings               1419224 non-null  float64\n",
            " 25  rune_pickups        1469575 non-null  float64\n",
            " 26  tower_damage        1491078 non-null  float64\n",
            " 27  towers_killed       1514535 non-null  float64\n",
            " 28  xp_per_min          1545346 non-null  float64\n",
            " 29  personaname         1538183 non-null  object \n",
            " 30  radiant_win         1545344 non-null  object \n",
            " 31  isRadiant           1545344 non-null  object \n",
            " 32  win                 1545344 non-null  float64\n",
            " 33  neutral_kills       1514565 non-null  float64\n",
            " 34  lane_kills          1514565 non-null  float64\n",
            " 35  observer_kills      1514565 non-null  float64\n",
            " 36  sentry_kills        1514565 non-null  float64\n",
            " 37  roshan_kills        1514565 non-null  float64\n",
            " 38  buyback_count       1514565 non-null  float64\n",
            " 39  observer_uses       1514565 non-null  float64\n",
            " 40  sentry_uses         1514565 non-null  float64\n",
            " 41  is_roaming          1514565 non-null  object \n",
            " 42  actions_per_min     1514565 non-null  float64\n",
            " 43  purchase_gem        80967 non-null    float64\n",
            " 44  purchase_rapier     6524 non-null     float64\n",
            "dtypes: float64(40), int64(1), object(4)\n",
            "memory usage: 530.6+ MB\n"
          ]
        }
      ]
    },
    {
      "cell_type": "code",
      "source": [
        "t.to_sql('players', conn, if_exists='replace', index=False)"
      ],
      "metadata": {
        "colab": {
          "base_uri": "https://localhost:8080/"
        },
        "id": "4shH0RrlgoSs",
        "outputId": "a3927ad6-9ee5-42e2-85c3-720ce0cb9b1e"
      },
      "execution_count": 23,
      "outputs": [
        {
          "output_type": "execute_result",
          "data": {
            "text/plain": [
              "1545351"
            ]
          },
          "metadata": {},
          "execution_count": 23
        }
      ]
    },
    {
      "cell_type": "code",
      "source": [
        "t = pd.read_csv(\n",
        "    '/content/merged_data/main_metadata.csv',\n",
        "    usecols=[\n",
        "        'match_id',\n",
        "        'duration',\n",
        "        'first_blood_time',\n",
        "        'leagueid',\n",
        "        'radiant_win',\n",
        "        'start_date_time',\n",
        "        'region'\n",
        "        ]\n",
        ")"
      ],
      "metadata": {
        "id": "2s8nzsDFh4sc"
      },
      "execution_count": 24,
      "outputs": []
    },
    {
      "cell_type": "code",
      "source": [
        "t.info()"
      ],
      "metadata": {
        "colab": {
          "base_uri": "https://localhost:8080/"
        },
        "id": "P0FWbL0hibvN",
        "outputId": "15845b57-17fe-47e3-efc3-2b36b07a48dc"
      },
      "execution_count": 25,
      "outputs": [
        {
          "output_type": "stream",
          "name": "stdout",
          "text": [
            "<class 'pandas.core.frame.DataFrame'>\n",
            "RangeIndex: 158479 entries, 0 to 158478\n",
            "Data columns (total 7 columns):\n",
            " #   Column            Non-Null Count   Dtype  \n",
            "---  ------            --------------   -----  \n",
            " 0   match_id          158479 non-null  int64  \n",
            " 1   duration          158479 non-null  int64  \n",
            " 2   first_blood_time  158479 non-null  int64  \n",
            " 3   leagueid          158479 non-null  int64  \n",
            " 4   radiant_win       157694 non-null  object \n",
            " 5   start_date_time   158479 non-null  object \n",
            " 6   region            157195 non-null  float64\n",
            "dtypes: float64(1), int64(4), object(2)\n",
            "memory usage: 8.5+ MB\n"
          ]
        }
      ]
    },
    {
      "cell_type": "code",
      "source": [
        "t.to_sql('matches', conn, if_exists='replace', index=False)"
      ],
      "metadata": {
        "colab": {
          "base_uri": "https://localhost:8080/"
        },
        "id": "OK25EiUyic-f",
        "outputId": "9a565e58-18a2-4a86-d8ec-b60281af22e2"
      },
      "execution_count": 26,
      "outputs": [
        {
          "output_type": "execute_result",
          "data": {
            "text/plain": [
              "158479"
            ]
          },
          "metadata": {},
          "execution_count": 26
        }
      ]
    },
    {
      "cell_type": "code",
      "source": [
        "t = pd.read_csv(\n",
        "    '/content/merged_data/picks_bans.csv',\n",
        "    usecols=[\n",
        "        'is_pick',\n",
        "        'hero_id',\n",
        "        'team',\n",
        "        'order',\n",
        "        'match_id',\n",
        "        'leagueid'\n",
        "        ]\n",
        ")"
      ],
      "metadata": {
        "id": "oPYRDHDdim5y"
      },
      "execution_count": 27,
      "outputs": []
    },
    {
      "cell_type": "code",
      "source": [
        "t.info()"
      ],
      "metadata": {
        "colab": {
          "base_uri": "https://localhost:8080/"
        },
        "outputId": "0013b575-7ea7-4bb4-982a-f52c16e9dd63",
        "id": "PiH8zCp_iwSK"
      },
      "execution_count": 28,
      "outputs": [
        {
          "output_type": "stream",
          "name": "stdout",
          "text": [
            "<class 'pandas.core.frame.DataFrame'>\n",
            "RangeIndex: 3529343 entries, 0 to 3529342\n",
            "Data columns (total 6 columns):\n",
            " #   Column    Dtype  \n",
            "---  ------    -----  \n",
            " 0   is_pick   bool   \n",
            " 1   hero_id   float64\n",
            " 2   team      float64\n",
            " 3   order     float64\n",
            " 4   match_id  int64  \n",
            " 5   leagueid  int64  \n",
            "dtypes: bool(1), float64(3), int64(2)\n",
            "memory usage: 138.0 MB\n"
          ]
        }
      ]
    },
    {
      "cell_type": "code",
      "source": [
        "t.to_sql('picks_bans', conn, if_exists='replace', index=False)"
      ],
      "metadata": {
        "colab": {
          "base_uri": "https://localhost:8080/"
        },
        "outputId": "1bd821d9-7ed5-4fb1-e8bd-91385765ac13",
        "id": "pF5m_RV0iwSK"
      },
      "execution_count": 29,
      "outputs": [
        {
          "output_type": "execute_result",
          "data": {
            "text/plain": [
              "3529343"
            ]
          },
          "metadata": {},
          "execution_count": 29
        }
      ]
    },
    {
      "cell_type": "code",
      "source": [
        "t = pd.read_csv(\n",
        "    '/content/merged_data/teams.csv',\n",
        "    usecols=[\n",
        "      'match_id',\n",
        "      'leagueid',\n",
        "      'radiant.team_id',\n",
        "      'radiant.name',\n",
        "      'radiant.tag',\n",
        "      'dire.team_id',\n",
        "      'dire.name',\n",
        "      'dire.tag',\n",
        "      ]\n",
        ")"
      ],
      "metadata": {
        "id": "-4TBcogEi6no"
      },
      "execution_count": 30,
      "outputs": []
    },
    {
      "cell_type": "code",
      "source": [
        "t.info()"
      ],
      "metadata": {
        "colab": {
          "base_uri": "https://localhost:8080/"
        },
        "outputId": "e94d211e-d350-4cef-d71f-0efac76b9538",
        "id": "DN84_-DsjDeG"
      },
      "execution_count": 31,
      "outputs": [
        {
          "output_type": "stream",
          "name": "stdout",
          "text": [
            "<class 'pandas.core.frame.DataFrame'>\n",
            "RangeIndex: 154601 entries, 0 to 154600\n",
            "Data columns (total 8 columns):\n",
            " #   Column           Non-Null Count   Dtype \n",
            "---  ------           --------------   ----- \n",
            " 0   match_id         154601 non-null  int64 \n",
            " 1   leagueid         154601 non-null  int64 \n",
            " 2   radiant.team_id  154601 non-null  int64 \n",
            " 3   radiant.name     153258 non-null  object\n",
            " 4   radiant.tag      140821 non-null  object\n",
            " 5   dire.team_id     154601 non-null  int64 \n",
            " 6   dire.name        153280 non-null  object\n",
            " 7   dire.tag         141065 non-null  object\n",
            "dtypes: int64(4), object(4)\n",
            "memory usage: 9.4+ MB\n"
          ]
        }
      ]
    },
    {
      "cell_type": "code",
      "source": [
        "t.to_sql('teams', conn, if_exists='replace', index=False)"
      ],
      "metadata": {
        "colab": {
          "base_uri": "https://localhost:8080/"
        },
        "outputId": "6a2eddbf-27de-4144-c8a9-8d6da0c0aeb0",
        "id": "wvW4ZlZIjDeG"
      },
      "execution_count": 32,
      "outputs": [
        {
          "output_type": "execute_result",
          "data": {
            "text/plain": [
              "154601"
            ]
          },
          "metadata": {},
          "execution_count": 32
        }
      ]
    },
    {
      "cell_type": "markdown",
      "source": [
        "### Вспомогательные таблицы"
      ],
      "metadata": {
        "id": "xuJA2VeZq2zI"
      }
    },
    {
      "cell_type": "code",
      "source": [
        "heroes, leagues, patch, regions, items = (\n",
        "    pd.read_csv('/content/Constants/Constants.Heroes.csv', index_col='Unnamed: 0').reset_index(drop=True),\n",
        "    pd.read_csv('/content/Constants/Constants.Leagues.csv'),\n",
        "    pd.read_csv('/content/Constants/Constants.Patch.csv'),\n",
        "    pd.read_csv('/content/Constants/Constants.Regions.csv', index_col='Unnamed: 0').reset_index(drop=True),\n",
        "    pd.read_csv('/content/Constants/Constants.Items.csv')\n",
        ")"
      ],
      "metadata": {
        "id": "G3NA6WelQyAB"
      },
      "execution_count": 33,
      "outputs": []
    },
    {
      "cell_type": "code",
      "source": [
        "# Цикл по списку переменных\n",
        "for df in [heroes, leagues, patch, regions, items]:\n",
        "    # Находим имя переменной в глобальном пространстве имен\n",
        "    table_name = [name for name in globals() if globals()[name] is df][0]\n",
        "    # Записываем датафрейм в SQL\n",
        "    df.to_sql(table_name, conn, if_exists='replace', index=False)"
      ],
      "metadata": {
        "id": "mcaooAW-ozNC"
      },
      "execution_count": 34,
      "outputs": []
    },
    {
      "cell_type": "markdown",
      "source": [
        "### items"
      ],
      "metadata": {
        "id": "CbUSkc8rqssK"
      }
    },
    {
      "cell_type": "code",
      "source": [
        "pd.read_sql('select count(*) from items;', conn)"
      ],
      "metadata": {
        "colab": {
          "base_uri": "https://localhost:8080/",
          "height": 81
        },
        "id": "QCfzD-w4NZ0m",
        "outputId": "cbd9fcec-0110-4b81-d5fb-c57e4a8423ef"
      },
      "execution_count": 35,
      "outputs": [
        {
          "output_type": "execute_result",
          "data": {
            "text/plain": [
              "   count(*)\n",
              "0        49"
            ],
            "text/html": [
              "\n",
              "  <div id=\"df-ff9d54e6-ff51-4c16-81d0-a2af5d691d77\" class=\"colab-df-container\">\n",
              "    <div>\n",
              "<style scoped>\n",
              "    .dataframe tbody tr th:only-of-type {\n",
              "        vertical-align: middle;\n",
              "    }\n",
              "\n",
              "    .dataframe tbody tr th {\n",
              "        vertical-align: top;\n",
              "    }\n",
              "\n",
              "    .dataframe thead th {\n",
              "        text-align: right;\n",
              "    }\n",
              "</style>\n",
              "<table border=\"1\" class=\"dataframe\">\n",
              "  <thead>\n",
              "    <tr style=\"text-align: right;\">\n",
              "      <th></th>\n",
              "      <th>count(*)</th>\n",
              "    </tr>\n",
              "  </thead>\n",
              "  <tbody>\n",
              "    <tr>\n",
              "      <th>0</th>\n",
              "      <td>49</td>\n",
              "    </tr>\n",
              "  </tbody>\n",
              "</table>\n",
              "</div>\n",
              "    <div class=\"colab-df-buttons\">\n",
              "\n",
              "  <div class=\"colab-df-container\">\n",
              "    <button class=\"colab-df-convert\" onclick=\"convertToInteractive('df-ff9d54e6-ff51-4c16-81d0-a2af5d691d77')\"\n",
              "            title=\"Convert this dataframe to an interactive table.\"\n",
              "            style=\"display:none;\">\n",
              "\n",
              "  <svg xmlns=\"http://www.w3.org/2000/svg\" height=\"24px\" viewBox=\"0 -960 960 960\">\n",
              "    <path d=\"M120-120v-720h720v720H120Zm60-500h600v-160H180v160Zm220 220h160v-160H400v160Zm0 220h160v-160H400v160ZM180-400h160v-160H180v160Zm440 0h160v-160H620v160ZM180-180h160v-160H180v160Zm440 0h160v-160H620v160Z\"/>\n",
              "  </svg>\n",
              "    </button>\n",
              "\n",
              "  <style>\n",
              "    .colab-df-container {\n",
              "      display:flex;\n",
              "      gap: 12px;\n",
              "    }\n",
              "\n",
              "    .colab-df-convert {\n",
              "      background-color: #E8F0FE;\n",
              "      border: none;\n",
              "      border-radius: 50%;\n",
              "      cursor: pointer;\n",
              "      display: none;\n",
              "      fill: #1967D2;\n",
              "      height: 32px;\n",
              "      padding: 0 0 0 0;\n",
              "      width: 32px;\n",
              "    }\n",
              "\n",
              "    .colab-df-convert:hover {\n",
              "      background-color: #E2EBFA;\n",
              "      box-shadow: 0px 1px 2px rgba(60, 64, 67, 0.3), 0px 1px 3px 1px rgba(60, 64, 67, 0.15);\n",
              "      fill: #174EA6;\n",
              "    }\n",
              "\n",
              "    .colab-df-buttons div {\n",
              "      margin-bottom: 4px;\n",
              "    }\n",
              "\n",
              "    [theme=dark] .colab-df-convert {\n",
              "      background-color: #3B4455;\n",
              "      fill: #D2E3FC;\n",
              "    }\n",
              "\n",
              "    [theme=dark] .colab-df-convert:hover {\n",
              "      background-color: #434B5C;\n",
              "      box-shadow: 0px 1px 3px 1px rgba(0, 0, 0, 0.15);\n",
              "      filter: drop-shadow(0px 1px 2px rgba(0, 0, 0, 0.3));\n",
              "      fill: #FFFFFF;\n",
              "    }\n",
              "  </style>\n",
              "\n",
              "    <script>\n",
              "      const buttonEl =\n",
              "        document.querySelector('#df-ff9d54e6-ff51-4c16-81d0-a2af5d691d77 button.colab-df-convert');\n",
              "      buttonEl.style.display =\n",
              "        google.colab.kernel.accessAllowed ? 'block' : 'none';\n",
              "\n",
              "      async function convertToInteractive(key) {\n",
              "        const element = document.querySelector('#df-ff9d54e6-ff51-4c16-81d0-a2af5d691d77');\n",
              "        const dataTable =\n",
              "          await google.colab.kernel.invokeFunction('convertToInteractive',\n",
              "                                                    [key], {});\n",
              "        if (!dataTable) return;\n",
              "\n",
              "        const docLinkHtml = 'Like what you see? Visit the ' +\n",
              "          '<a target=\"_blank\" href=https://colab.research.google.com/notebooks/data_table.ipynb>data table notebook</a>'\n",
              "          + ' to learn more about interactive tables.';\n",
              "        element.innerHTML = '';\n",
              "        dataTable['output_type'] = 'display_data';\n",
              "        await google.colab.output.renderOutput(dataTable, element);\n",
              "        const docLink = document.createElement('div');\n",
              "        docLink.innerHTML = docLinkHtml;\n",
              "        element.appendChild(docLink);\n",
              "      }\n",
              "    </script>\n",
              "  </div>\n",
              "\n",
              "    </div>\n",
              "  </div>\n"
            ],
            "application/vnd.google.colaboratory.intrinsic+json": {
              "type": "dataframe",
              "summary": "{\n  \"name\": \"pd\",\n  \"rows\": 1,\n  \"fields\": [\n    {\n      \"column\": \"count(*)\",\n      \"properties\": {\n        \"dtype\": \"number\",\n        \"std\": null,\n        \"min\": 49,\n        \"max\": 49,\n        \"num_unique_values\": 1,\n        \"samples\": [\n          49\n        ],\n        \"semantic_type\": \"\",\n        \"description\": \"\"\n      }\n    }\n  ]\n}"
            }
          },
          "metadata": {},
          "execution_count": 35
        }
      ]
    },
    {
      "cell_type": "markdown",
      "source": [
        "В таблице `items` всего 49 строк. В доте предметов гораздо больше, таблица неверная. Заменю ее корректной."
      ],
      "metadata": {
        "id": "KNn7KauiNjpf"
      }
    },
    {
      "cell_type": "code",
      "source": [
        "items_json_url = 'https://raw.githubusercontent.com/odota/dotaconstants/refs/heads/master/build/items.json'\n",
        "items = pd.read_json(items_json_url, orient='index')"
      ],
      "metadata": {
        "id": "BLJOfM0urfIl"
      },
      "execution_count": 36,
      "outputs": []
    },
    {
      "cell_type": "code",
      "source": [
        "#items.memory_usage().sum()\n",
        "items.info()"
      ],
      "metadata": {
        "colab": {
          "base_uri": "https://localhost:8080/"
        },
        "id": "br6kSvBSYsdq",
        "outputId": "7e79867f-a925-406b-ea5e-658a05a4d144"
      },
      "execution_count": 37,
      "outputs": [
        {
          "output_type": "stream",
          "name": "stdout",
          "text": [
            "<class 'pandas.core.frame.DataFrame'>\n",
            "Index: 459 entries, blink to diffusal_blade_2\n",
            "Data columns (total 24 columns):\n",
            " #   Column       Non-Null Count  Dtype  \n",
            "---  ------       --------------  -----  \n",
            " 0   abilities    283 non-null    object \n",
            " 1   hint         283 non-null    object \n",
            " 2   id           459 non-null    int64  \n",
            " 3   img          459 non-null    object \n",
            " 4   dname        450 non-null    object \n",
            " 5   qual         226 non-null    object \n",
            " 6   cost         449 non-null    float64\n",
            " 7   behavior     278 non-null    object \n",
            " 8   notes        459 non-null    object \n",
            " 9   attrib       459 non-null    object \n",
            " 10  mc           459 non-null    int64  \n",
            " 11  hc           457 non-null    float64\n",
            " 12  cd           459 non-null    int64  \n",
            " 13  lore         459 non-null    object \n",
            " 14  components   121 non-null    object \n",
            " 15  created      459 non-null    bool   \n",
            " 16  charges      457 non-null    float64\n",
            " 17  dmg_type     10 non-null     object \n",
            " 18  target_team  83 non-null     object \n",
            " 19  target_type  83 non-null     object \n",
            " 20  dispellable  42 non-null     object \n",
            " 21  bkbpierce    18 non-null     object \n",
            " 22  desc         2 non-null      object \n",
            " 23  tier         63 non-null     float64\n",
            "dtypes: bool(1), float64(4), int64(3), object(16)\n",
            "memory usage: 86.5+ KB\n"
          ]
        }
      ]
    },
    {
      "cell_type": "code",
      "source": [
        "items.head(2)"
      ],
      "metadata": {
        "colab": {
          "base_uri": "https://localhost:8080/",
          "height": 370
        },
        "id": "pRUHv6pqsI9C",
        "outputId": "b95768d4-7df9-43fa-b3be-a8c2de5a8edf"
      },
      "execution_count": 38,
      "outputs": [
        {
          "output_type": "execute_result",
          "data": {
            "text/plain": [
              "                                                            abilities hint  \\\n",
              "blink               [{'type': 'active', 'title': 'Blink', 'descrip...   []   \n",
              "overwhelming_blink  [{'type': 'active', 'title': 'Overwhelming Bli...   []   \n",
              "\n",
              "                     id                                                img  \\\n",
              "blink                 1  /apps/dota2/images/dota_react/items/blink.png?...   \n",
              "overwhelming_blink  600  /apps/dota2/images/dota_react/items/overwhelmi...   \n",
              "\n",
              "                                 dname       qual    cost      behavior  \\\n",
              "blink                     Blink Dagger  component 2250.00  Point Target   \n",
              "overwhelming_blink  Overwhelming Blink  component 6800.00  Point Target   \n",
              "\n",
              "                                                                notes  \\\n",
              "blink               Self-casting will cause you to teleport in the...   \n",
              "overwhelming_blink  Self-casting will cause you to teleport in the...   \n",
              "\n",
              "                                                               attrib  ...  \\\n",
              "blink               [{'key': 'blink_range', 'value': '1200'}, {'ke...  ...   \n",
              "overwhelming_blink  [{'key': 'blink_range', 'value': '1200'}, {'ke...  ...   \n",
              "\n",
              "                         components  created  charges dmg_type target_team  \\\n",
              "blink                          None    False     0.00      NaN         NaN   \n",
              "overwhelming_blink  [blink, reaver]     True     0.00  Magical         NaN   \n",
              "\n",
              "                    target_type  dispellable bkbpierce desc tier  \n",
              "blink                       NaN          NaN       NaN  NaN  NaN  \n",
              "overwhelming_blink          NaN          NaN       NaN  NaN  NaN  \n",
              "\n",
              "[2 rows x 24 columns]"
            ],
            "text/html": [
              "\n",
              "  <div id=\"df-630f2c50-c7a8-4df4-bae2-ba0ac05972d5\" class=\"colab-df-container\">\n",
              "    <div>\n",
              "<style scoped>\n",
              "    .dataframe tbody tr th:only-of-type {\n",
              "        vertical-align: middle;\n",
              "    }\n",
              "\n",
              "    .dataframe tbody tr th {\n",
              "        vertical-align: top;\n",
              "    }\n",
              "\n",
              "    .dataframe thead th {\n",
              "        text-align: right;\n",
              "    }\n",
              "</style>\n",
              "<table border=\"1\" class=\"dataframe\">\n",
              "  <thead>\n",
              "    <tr style=\"text-align: right;\">\n",
              "      <th></th>\n",
              "      <th>abilities</th>\n",
              "      <th>hint</th>\n",
              "      <th>id</th>\n",
              "      <th>img</th>\n",
              "      <th>dname</th>\n",
              "      <th>qual</th>\n",
              "      <th>cost</th>\n",
              "      <th>behavior</th>\n",
              "      <th>notes</th>\n",
              "      <th>attrib</th>\n",
              "      <th>...</th>\n",
              "      <th>components</th>\n",
              "      <th>created</th>\n",
              "      <th>charges</th>\n",
              "      <th>dmg_type</th>\n",
              "      <th>target_team</th>\n",
              "      <th>target_type</th>\n",
              "      <th>dispellable</th>\n",
              "      <th>bkbpierce</th>\n",
              "      <th>desc</th>\n",
              "      <th>tier</th>\n",
              "    </tr>\n",
              "  </thead>\n",
              "  <tbody>\n",
              "    <tr>\n",
              "      <th>blink</th>\n",
              "      <td>[{'type': 'active', 'title': 'Blink', 'descrip...</td>\n",
              "      <td>[]</td>\n",
              "      <td>1</td>\n",
              "      <td>/apps/dota2/images/dota_react/items/blink.png?...</td>\n",
              "      <td>Blink Dagger</td>\n",
              "      <td>component</td>\n",
              "      <td>2250.00</td>\n",
              "      <td>Point Target</td>\n",
              "      <td>Self-casting will cause you to teleport in the...</td>\n",
              "      <td>[{'key': 'blink_range', 'value': '1200'}, {'ke...</td>\n",
              "      <td>...</td>\n",
              "      <td>None</td>\n",
              "      <td>False</td>\n",
              "      <td>0.00</td>\n",
              "      <td>NaN</td>\n",
              "      <td>NaN</td>\n",
              "      <td>NaN</td>\n",
              "      <td>NaN</td>\n",
              "      <td>NaN</td>\n",
              "      <td>NaN</td>\n",
              "      <td>NaN</td>\n",
              "    </tr>\n",
              "    <tr>\n",
              "      <th>overwhelming_blink</th>\n",
              "      <td>[{'type': 'active', 'title': 'Overwhelming Bli...</td>\n",
              "      <td>[]</td>\n",
              "      <td>600</td>\n",
              "      <td>/apps/dota2/images/dota_react/items/overwhelmi...</td>\n",
              "      <td>Overwhelming Blink</td>\n",
              "      <td>component</td>\n",
              "      <td>6800.00</td>\n",
              "      <td>Point Target</td>\n",
              "      <td>Self-casting will cause you to teleport in the...</td>\n",
              "      <td>[{'key': 'blink_range', 'value': '1200'}, {'ke...</td>\n",
              "      <td>...</td>\n",
              "      <td>[blink, reaver]</td>\n",
              "      <td>True</td>\n",
              "      <td>0.00</td>\n",
              "      <td>Magical</td>\n",
              "      <td>NaN</td>\n",
              "      <td>NaN</td>\n",
              "      <td>NaN</td>\n",
              "      <td>NaN</td>\n",
              "      <td>NaN</td>\n",
              "      <td>NaN</td>\n",
              "    </tr>\n",
              "  </tbody>\n",
              "</table>\n",
              "<p>2 rows × 24 columns</p>\n",
              "</div>\n",
              "    <div class=\"colab-df-buttons\">\n",
              "\n",
              "  <div class=\"colab-df-container\">\n",
              "    <button class=\"colab-df-convert\" onclick=\"convertToInteractive('df-630f2c50-c7a8-4df4-bae2-ba0ac05972d5')\"\n",
              "            title=\"Convert this dataframe to an interactive table.\"\n",
              "            style=\"display:none;\">\n",
              "\n",
              "  <svg xmlns=\"http://www.w3.org/2000/svg\" height=\"24px\" viewBox=\"0 -960 960 960\">\n",
              "    <path d=\"M120-120v-720h720v720H120Zm60-500h600v-160H180v160Zm220 220h160v-160H400v160Zm0 220h160v-160H400v160ZM180-400h160v-160H180v160Zm440 0h160v-160H620v160ZM180-180h160v-160H180v160Zm440 0h160v-160H620v160Z\"/>\n",
              "  </svg>\n",
              "    </button>\n",
              "\n",
              "  <style>\n",
              "    .colab-df-container {\n",
              "      display:flex;\n",
              "      gap: 12px;\n",
              "    }\n",
              "\n",
              "    .colab-df-convert {\n",
              "      background-color: #E8F0FE;\n",
              "      border: none;\n",
              "      border-radius: 50%;\n",
              "      cursor: pointer;\n",
              "      display: none;\n",
              "      fill: #1967D2;\n",
              "      height: 32px;\n",
              "      padding: 0 0 0 0;\n",
              "      width: 32px;\n",
              "    }\n",
              "\n",
              "    .colab-df-convert:hover {\n",
              "      background-color: #E2EBFA;\n",
              "      box-shadow: 0px 1px 2px rgba(60, 64, 67, 0.3), 0px 1px 3px 1px rgba(60, 64, 67, 0.15);\n",
              "      fill: #174EA6;\n",
              "    }\n",
              "\n",
              "    .colab-df-buttons div {\n",
              "      margin-bottom: 4px;\n",
              "    }\n",
              "\n",
              "    [theme=dark] .colab-df-convert {\n",
              "      background-color: #3B4455;\n",
              "      fill: #D2E3FC;\n",
              "    }\n",
              "\n",
              "    [theme=dark] .colab-df-convert:hover {\n",
              "      background-color: #434B5C;\n",
              "      box-shadow: 0px 1px 3px 1px rgba(0, 0, 0, 0.15);\n",
              "      filter: drop-shadow(0px 1px 2px rgba(0, 0, 0, 0.3));\n",
              "      fill: #FFFFFF;\n",
              "    }\n",
              "  </style>\n",
              "\n",
              "    <script>\n",
              "      const buttonEl =\n",
              "        document.querySelector('#df-630f2c50-c7a8-4df4-bae2-ba0ac05972d5 button.colab-df-convert');\n",
              "      buttonEl.style.display =\n",
              "        google.colab.kernel.accessAllowed ? 'block' : 'none';\n",
              "\n",
              "      async function convertToInteractive(key) {\n",
              "        const element = document.querySelector('#df-630f2c50-c7a8-4df4-bae2-ba0ac05972d5');\n",
              "        const dataTable =\n",
              "          await google.colab.kernel.invokeFunction('convertToInteractive',\n",
              "                                                    [key], {});\n",
              "        if (!dataTable) return;\n",
              "\n",
              "        const docLinkHtml = 'Like what you see? Visit the ' +\n",
              "          '<a target=\"_blank\" href=https://colab.research.google.com/notebooks/data_table.ipynb>data table notebook</a>'\n",
              "          + ' to learn more about interactive tables.';\n",
              "        element.innerHTML = '';\n",
              "        dataTable['output_type'] = 'display_data';\n",
              "        await google.colab.output.renderOutput(dataTable, element);\n",
              "        const docLink = document.createElement('div');\n",
              "        docLink.innerHTML = docLinkHtml;\n",
              "        element.appendChild(docLink);\n",
              "      }\n",
              "    </script>\n",
              "  </div>\n",
              "\n",
              "\n",
              "<div id=\"df-b6e39c59-667b-4364-9a0f-62a48c77d64f\">\n",
              "  <button class=\"colab-df-quickchart\" onclick=\"quickchart('df-b6e39c59-667b-4364-9a0f-62a48c77d64f')\"\n",
              "            title=\"Suggest charts\"\n",
              "            style=\"display:none;\">\n",
              "\n",
              "<svg xmlns=\"http://www.w3.org/2000/svg\" height=\"24px\"viewBox=\"0 0 24 24\"\n",
              "     width=\"24px\">\n",
              "    <g>\n",
              "        <path d=\"M19 3H5c-1.1 0-2 .9-2 2v14c0 1.1.9 2 2 2h14c1.1 0 2-.9 2-2V5c0-1.1-.9-2-2-2zM9 17H7v-7h2v7zm4 0h-2V7h2v10zm4 0h-2v-4h2v4z\"/>\n",
              "    </g>\n",
              "</svg>\n",
              "  </button>\n",
              "\n",
              "<style>\n",
              "  .colab-df-quickchart {\n",
              "      --bg-color: #E8F0FE;\n",
              "      --fill-color: #1967D2;\n",
              "      --hover-bg-color: #E2EBFA;\n",
              "      --hover-fill-color: #174EA6;\n",
              "      --disabled-fill-color: #AAA;\n",
              "      --disabled-bg-color: #DDD;\n",
              "  }\n",
              "\n",
              "  [theme=dark] .colab-df-quickchart {\n",
              "      --bg-color: #3B4455;\n",
              "      --fill-color: #D2E3FC;\n",
              "      --hover-bg-color: #434B5C;\n",
              "      --hover-fill-color: #FFFFFF;\n",
              "      --disabled-bg-color: #3B4455;\n",
              "      --disabled-fill-color: #666;\n",
              "  }\n",
              "\n",
              "  .colab-df-quickchart {\n",
              "    background-color: var(--bg-color);\n",
              "    border: none;\n",
              "    border-radius: 50%;\n",
              "    cursor: pointer;\n",
              "    display: none;\n",
              "    fill: var(--fill-color);\n",
              "    height: 32px;\n",
              "    padding: 0;\n",
              "    width: 32px;\n",
              "  }\n",
              "\n",
              "  .colab-df-quickchart:hover {\n",
              "    background-color: var(--hover-bg-color);\n",
              "    box-shadow: 0 1px 2px rgba(60, 64, 67, 0.3), 0 1px 3px 1px rgba(60, 64, 67, 0.15);\n",
              "    fill: var(--button-hover-fill-color);\n",
              "  }\n",
              "\n",
              "  .colab-df-quickchart-complete:disabled,\n",
              "  .colab-df-quickchart-complete:disabled:hover {\n",
              "    background-color: var(--disabled-bg-color);\n",
              "    fill: var(--disabled-fill-color);\n",
              "    box-shadow: none;\n",
              "  }\n",
              "\n",
              "  .colab-df-spinner {\n",
              "    border: 2px solid var(--fill-color);\n",
              "    border-color: transparent;\n",
              "    border-bottom-color: var(--fill-color);\n",
              "    animation:\n",
              "      spin 1s steps(1) infinite;\n",
              "  }\n",
              "\n",
              "  @keyframes spin {\n",
              "    0% {\n",
              "      border-color: transparent;\n",
              "      border-bottom-color: var(--fill-color);\n",
              "      border-left-color: var(--fill-color);\n",
              "    }\n",
              "    20% {\n",
              "      border-color: transparent;\n",
              "      border-left-color: var(--fill-color);\n",
              "      border-top-color: var(--fill-color);\n",
              "    }\n",
              "    30% {\n",
              "      border-color: transparent;\n",
              "      border-left-color: var(--fill-color);\n",
              "      border-top-color: var(--fill-color);\n",
              "      border-right-color: var(--fill-color);\n",
              "    }\n",
              "    40% {\n",
              "      border-color: transparent;\n",
              "      border-right-color: var(--fill-color);\n",
              "      border-top-color: var(--fill-color);\n",
              "    }\n",
              "    60% {\n",
              "      border-color: transparent;\n",
              "      border-right-color: var(--fill-color);\n",
              "    }\n",
              "    80% {\n",
              "      border-color: transparent;\n",
              "      border-right-color: var(--fill-color);\n",
              "      border-bottom-color: var(--fill-color);\n",
              "    }\n",
              "    90% {\n",
              "      border-color: transparent;\n",
              "      border-bottom-color: var(--fill-color);\n",
              "    }\n",
              "  }\n",
              "</style>\n",
              "\n",
              "  <script>\n",
              "    async function quickchart(key) {\n",
              "      const quickchartButtonEl =\n",
              "        document.querySelector('#' + key + ' button');\n",
              "      quickchartButtonEl.disabled = true;  // To prevent multiple clicks.\n",
              "      quickchartButtonEl.classList.add('colab-df-spinner');\n",
              "      try {\n",
              "        const charts = await google.colab.kernel.invokeFunction(\n",
              "            'suggestCharts', [key], {});\n",
              "      } catch (error) {\n",
              "        console.error('Error during call to suggestCharts:', error);\n",
              "      }\n",
              "      quickchartButtonEl.classList.remove('colab-df-spinner');\n",
              "      quickchartButtonEl.classList.add('colab-df-quickchart-complete');\n",
              "    }\n",
              "    (() => {\n",
              "      let quickchartButtonEl =\n",
              "        document.querySelector('#df-b6e39c59-667b-4364-9a0f-62a48c77d64f button');\n",
              "      quickchartButtonEl.style.display =\n",
              "        google.colab.kernel.accessAllowed ? 'block' : 'none';\n",
              "    })();\n",
              "  </script>\n",
              "</div>\n",
              "    </div>\n",
              "  </div>\n"
            ],
            "application/vnd.google.colaboratory.intrinsic+json": {
              "type": "dataframe",
              "variable_name": "items"
            }
          },
          "metadata": {},
          "execution_count": 38
        }
      ]
    },
    {
      "cell_type": "code",
      "source": [
        "items = items[[\n",
        "    'id',\n",
        "    'dname',\n",
        "    'qual',\n",
        "    'cost',\n",
        "    'notes',\n",
        "    'mc',\n",
        "    'cd',\n",
        "    'lore',\n",
        "    'components',\n",
        "    'created',\n",
        "    'charges',\n",
        "    ]]"
      ],
      "metadata": {
        "id": "9ZehlydvYxUe"
      },
      "execution_count": 39,
      "outputs": []
    },
    {
      "cell_type": "code",
      "source": [
        "items = items.reset_index(names='item')"
      ],
      "metadata": {
        "id": "aw8r391_aJlE"
      },
      "execution_count": 40,
      "outputs": []
    },
    {
      "cell_type": "code",
      "source": [
        "items['components'] = items['components'].apply(lambda x: ','.join(x) if isinstance(x, list) else x)"
      ],
      "metadata": {
        "id": "PfG5JS04bpEn"
      },
      "execution_count": 41,
      "outputs": []
    },
    {
      "cell_type": "code",
      "source": [
        "items.to_sql('items', conn, if_exists='replace', index=False)"
      ],
      "metadata": {
        "colab": {
          "base_uri": "https://localhost:8080/"
        },
        "id": "utxLk2UfFaOn",
        "outputId": "568b6977-926e-4dd0-ca51-842aaa5d4270"
      },
      "execution_count": 42,
      "outputs": [
        {
          "output_type": "execute_result",
          "data": {
            "text/plain": [
              "459"
            ]
          },
          "metadata": {},
          "execution_count": 42
        }
      ]
    },
    {
      "cell_type": "code",
      "source": [
        "os.path.getsize(\"/content/dota_pro_matches.db\")"
      ],
      "metadata": {
        "colab": {
          "base_uri": "https://localhost:8080/"
        },
        "id": "G-uPFvEXg3Tq",
        "outputId": "f01202a7-842c-4368-d9d3-963a3e0355ba"
      },
      "execution_count": 43,
      "outputs": [
        {
          "output_type": "execute_result",
          "data": {
            "text/plain": [
              "264904704"
            ]
          },
          "metadata": {},
          "execution_count": 43
        }
      ]
    },
    {
      "cell_type": "code",
      "source": [
        "conn.close()"
      ],
      "metadata": {
        "id": "4ksTWzqbsY77"
      },
      "execution_count": 44,
      "outputs": []
    },
    {
      "cell_type": "code",
      "source": [
        "# Список директорий для удаления\n",
        "del_list = [\"Constants\", \"Images\", \"merged_data\"]\n",
        "\n",
        "# Удаление каждой директории\n",
        "for folder in del_list:\n",
        "    if os.path.exists(f'/content/{folder}'):\n",
        "        shutil.rmtree(f'/content/{folder}')  # Удаляет директорию и все её содержимое"
      ],
      "metadata": {
        "id": "HxkxBap_kt0c"
      },
      "execution_count": 45,
      "outputs": []
    },
    {
      "cell_type": "code",
      "source": [
        "from google.colab import drive\n",
        "drive.mount('/content/drive')"
      ],
      "metadata": {
        "colab": {
          "base_uri": "https://localhost:8080/"
        },
        "id": "7fdv5R3Q1b_U",
        "outputId": "b169ad23-4fcf-41ea-872e-a2c7f2c4e943"
      },
      "execution_count": 46,
      "outputs": [
        {
          "output_type": "stream",
          "name": "stdout",
          "text": [
            "Mounted at /content/drive\n"
          ]
        }
      ]
    },
    {
      "cell_type": "code",
      "source": [
        "shutil.copy(\"/content/dota_pro_matches.db\", \"/content/drive/MyDrive/db/dota_pro_matches.db\")"
      ],
      "metadata": {
        "id": "rpfqKiYwvtUN",
        "colab": {
          "base_uri": "https://localhost:8080/",
          "height": 35
        },
        "outputId": "b74ee79d-c32c-41e5-fa94-e7c4b4cf7807"
      },
      "execution_count": 47,
      "outputs": [
        {
          "output_type": "execute_result",
          "data": {
            "text/plain": [
              "'/content/drive/MyDrive/db/dota_pro_matches.db'"
            ],
            "application/vnd.google.colaboratory.intrinsic+json": {
              "type": "string"
            }
          },
          "metadata": {},
          "execution_count": 47
        }
      ]
    }
  ],
  "metadata": {
    "colab": {
      "provenance": [],
      "mount_file_id": "1HOe2AqsiBUN_F77ChQpmGnxrUbLfxT-J",
      "authorship_tag": "ABX9TyNagpa5Sh311EnRUQYQXwgl",
      "include_colab_link": true
    },
    "kernelspec": {
      "display_name": "Python 3",
      "name": "python3"
    },
    "language_info": {
      "name": "python"
    }
  },
  "nbformat": 4,
  "nbformat_minor": 0
}